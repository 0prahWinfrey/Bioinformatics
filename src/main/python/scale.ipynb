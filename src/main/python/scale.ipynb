{
 "cells": [
  {
   "cell_type": "code",
   "execution_count": 1,
   "metadata": {},
   "outputs": [],
   "source": [
    "from scipy.spatial import procrustes\n",
    "import numpy as np\n",
    "from Bio.PDB import *"
   ]
  },
  {
   "cell_type": "code",
   "execution_count": 32,
   "metadata": {},
   "outputs": [],
   "source": [
    "def rmse(actual, pred): \n",
    "    actual, pred = np.array(actual), np.array(pred)\n",
    "    return np.sqrt(np.square(np.subtract(actual,pred)).mean())"
   ]
  },
  {
   "cell_type": "code",
   "execution_count": 86,
   "metadata": {},
   "outputs": [],
   "source": [
    "#True\n",
    "xyzFromTrue = []\n",
    "with open('../../../examples/simulatedDataSet/Simulation/data/regular/regularstructre.txt') as truefile:\n",
    "    for line in truefile:\n",
    "        #print(line)\n",
    "        ender = line.find(\",\")\n",
    "        ender2 = line.find(\",\", ender+1)\n",
    "        \n",
    "        tmp = [float(line[0:ender]),float(line[ender+1:ender2]),float(line[ender2+1:len(line)])]\n",
    "        xyzFromTrue.append(tmp)\n",
    "\n",
    "xyzFromTrue = np.array(xyzFrompdb)\n",
    "#print(xyzFromTrue)"
   ]
  },
  {
   "cell_type": "code",
   "execution_count": 87,
   "metadata": {},
   "outputs": [
    {
     "data": {
      "text/plain": [
       "21"
      ]
     },
     "execution_count": 87,
     "metadata": {},
     "output_type": "execute_result"
    }
   ],
   "source": [
    "#Comparison\n",
    "#3dFlies\n",
    "#thisFile = '../../../examples/simulated_output/3dflies/regular25.pdb'\n",
    "# Chromosome3D\n",
    "#thisFile = '../../../examples/simulated_output/Chromosome3D/regular25.pdb'\n",
    "# 3DMax\n",
    "#thisFile = '../../../examples/simulated_output/3dmax/regular90.pdb'\n",
    "# LorDG\n",
    "thisFile = '../../../examples/simulated_output/LorDG/regular90.pdb'\n",
    "\n",
    "xyzFrompdb = []\n",
    "with open(thisFile) as pdbfile:\n",
    "    for line in pdbfile:\n",
    "        if line[:4] == 'ATOM' or line[:6] == \"HETATM\":\n",
    "            #print( line)\n",
    "            # Split the line\n",
    "            splitted_line = [line[:6], line[6:11], line[12:16], line[17:20], line[21], line[22:26], line[30:38], line[38:46], line[46:54]]\n",
    "            tmp = [float(splitted_line[6]),float(splitted_line[7]),float(splitted_line[8])]\n",
    "            xyzFrompdb.append(tmp)\n",
    "            #print(tmp)\n",
    "            # To format again the pdb file with the fields extracted\n",
    "            #print(tuple(splitted_line))#6,7,8\n",
    "xyzFrompdb = np.array(xyzFrompdb)\n",
    "len(xyzFromTrue)\n",
    "#len(xyzFrompdb)"
   ]
  },
  {
   "cell_type": "code",
   "execution_count": 88,
   "metadata": {},
   "outputs": [
    {
     "name": "stdout",
     "output_type": "stream",
     "text": [
      "9.068146758103227e-17\n"
     ]
    }
   ],
   "source": [
    "#Analysis\n",
    "mtx1, mtx2, disparity = procrustes(xyzFromTrue, xyzFrompdb)\n",
    "print(rmse(mtx1, mtx2))"
   ]
  },
  {
   "cell_type": "code",
   "execution_count": null,
   "metadata": {},
   "outputs": [],
   "source": []
  },
  {
   "cell_type": "code",
   "execution_count": null,
   "metadata": {},
   "outputs": [],
   "source": []
  }
 ],
 "metadata": {
  "kernelspec": {
   "display_name": "Python 3",
   "language": "python",
   "name": "python3"
  },
  "language_info": {
   "codemirror_mode": {
    "name": "ipython",
    "version": 3
   },
   "file_extension": ".py",
   "mimetype": "text/x-python",
   "name": "python",
   "nbconvert_exporter": "python",
   "pygments_lexer": "ipython3",
   "version": "3.8.5"
  }
 },
 "nbformat": 4,
 "nbformat_minor": 4
}
