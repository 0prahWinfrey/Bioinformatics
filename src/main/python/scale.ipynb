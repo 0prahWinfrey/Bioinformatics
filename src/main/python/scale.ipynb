{
 "cells": [
  {
   "cell_type": "code",
   "execution_count": 1,
   "metadata": {},
   "outputs": [],
   "source": [
    "from scipy.spatial import procrustes\n",
    "import numpy as np\n",
    "from Bio.PDB import *"
   ]
  },
  {
   "cell_type": "code",
   "execution_count": 2,
   "metadata": {},
   "outputs": [],
   "source": [
    "#Comparison\n",
    "xyzFrompdb = []\n",
    "with open('yolo.pdb') as pdbfile:\n",
    "    for line in pdbfile:\n",
    "        if line[:4] == 'ATOM' or line[:6] == \"HETATM\":\n",
    "            #print( line)\n",
    "            # Split the line\n",
    "            splitted_line = [line[:6], line[6:11], line[12:16], line[17:20], line[21], line[22:26], line[30:38], line[38:46], line[46:54]]\n",
    "            tmp = [float(splitted_line[6]),float(splitted_line[7]),float(splitted_line[8])]\n",
    "            xyzFrompdb.append(tmp)\n",
    "            #print(tmp)\n",
    "            # To format again the pdb file with the fields extracted\n",
    "            #print(tuple(splitted_line))#6,7,8\n",
    "xyzFrompdb = np.array(xyzFrompdb)"
   ]
  },
  {
   "cell_type": "code",
   "execution_count": 27,
   "metadata": {},
   "outputs": [],
   "source": [
    "#True\n",
    "xyzFromTrue = []\n",
    "with open('../../../examples/simulatedDataSet/Simulation/data/regular/regularstructre-sparse.txt') as truefile:\n",
    "    for line in truefile:\n",
    "        #print(line)\n",
    "        ender = line.find(\".\")\n",
    "        ender = line.find(\".\", ender+1)\n",
    "        #print(ender)\n",
    "        ender2 = line.find(\".\", ender+1)\n",
    "        \n",
    "        tmp = [float(line[0:ender-2]),float(line[ender-2:ender2-2]),float(line[ender2-2:len(line)])]\n",
    "        xyzFromTrue.append(tmp)\n",
    "\n",
    "xyzFromTrue = np.array(xyzFrompdb)\n",
    "#print(xyzFromTrue)"
   ]
  },
  {
   "cell_type": "code",
   "execution_count": 28,
   "metadata": {},
   "outputs": [],
   "source": [
    "#Analysis\n",
    "mtx1, mtx2, disparity = procrustes(xyzFromTrue, xyzFrompdb)"
   ]
  },
  {
   "cell_type": "code",
   "execution_count": 30,
   "metadata": {},
   "outputs": [
    {
     "data": {
      "text/plain": [
       "2.1939944956755887e-31"
      ]
     },
     "execution_count": 30,
     "metadata": {},
     "output_type": "execute_result"
    }
   ],
   "source": [
    "disparity"
   ]
  },
  {
   "cell_type": "code",
   "execution_count": null,
   "metadata": {},
   "outputs": [],
   "source": []
  }
 ],
 "metadata": {
  "kernelspec": {
   "display_name": "Python 3",
   "language": "python",
   "name": "python3"
  },
  "language_info": {
   "codemirror_mode": {
    "name": "ipython",
    "version": 3
   },
   "file_extension": ".py",
   "mimetype": "text/x-python",
   "name": "python",
   "nbconvert_exporter": "python",
   "pygments_lexer": "ipython3",
   "version": "3.8.5"
  }
 },
 "nbformat": 4,
 "nbformat_minor": 4
}
